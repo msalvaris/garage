{
 "cells": [
  {
   "cell_type": "code",
   "execution_count": 31,
   "metadata": {
    "collapsed": true
   },
   "outputs": [],
   "source": [
    "import sys\n",
    "from toolz import curry\n",
    "from contextlib import redirect_stdout"
   ]
  },
  {
   "cell_type": "code",
   "execution_count": 8,
   "metadata": {
    "collapsed": true
   },
   "outputs": [],
   "source": [
    "class Logger(object):\n",
    "    \"\"\" Pushes the output to multiple locations\n",
    "    \"\"\"\n",
    "    def __init__(self, *outputs):\n",
    "        self._outputs = outputs\n",
    "\n",
    "    def write(self, message):\n",
    "        for out in self._outputs:\n",
    "            out.write(message)\n",
    "\n",
    "    def flush(self):\n",
    "        pass "
   ]
  },
  {
   "cell_type": "code",
   "execution_count": null,
   "metadata": {
    "collapsed": true
   },
   "outputs": [],
   "source": [
    "def error_to(output):\n",
    "    \"\"\" Redirects stderr to a specified output location\n",
    "    \"\"\"\n",
    "    orig_stderr = sys.stderr\n",
    "    \n",
    "    def reset_stderr():\n",
    "        sys.stderr = orig_stdout\n",
    "    \n",
    "    sys.stderr = output\n",
    "    return reset_stderr"
   ]
  },
  {
   "cell_type": "code",
   "execution_count": 48,
   "metadata": {
    "collapsed": true
   },
   "outputs": [],
   "source": [
    "def output_to(output):\n",
    "    \"\"\" Redirects stdout to a specified output location\n",
    "    \"\"\"\n",
    "    orig_stdout = sys.stdout\n",
    "    \n",
    "    def reset_stdout():\n",
    "        sys.stdout = orig_stdout\n",
    "    \n",
    "    sys.stdout = output\n",
    "    return reset_stdout"
   ]
  },
  {
   "cell_type": "code",
   "execution_count": 21,
   "metadata": {},
   "outputs": [
    {
     "name": "stdout",
     "output_type": "stream",
     "text": [
      "hi\n",
      "CPU times: user 235 µs, sys: 25 µs, total: 260 µs\n",
      "Wall time: 210 µs\n"
     ]
    }
   ],
   "source": [
    "%%time\n",
    "with redirect_stdout(Logger(sys.stdout, sys.__stdout__)):\n",
    "    print('hi')"
   ]
  },
  {
   "cell_type": "code",
   "execution_count": 58,
   "metadata": {},
   "outputs": [
    {
     "name": "stdout",
     "output_type": "stream",
     "text": [
      "bolls2\n"
     ]
    }
   ],
   "source": [
    "print('bolls2')"
   ]
  },
  {
   "cell_type": "code",
   "execution_count": 49,
   "metadata": {
    "collapsed": true
   },
   "outputs": [],
   "source": [
    "reset_output = output_to(sys.__stdout__)"
   ]
  },
  {
   "cell_type": "code",
   "execution_count": 57,
   "metadata": {
    "collapsed": true
   },
   "outputs": [],
   "source": [
    "reset_output = redirect_from_to(sys.stdout, sys.__stdout__)"
   ]
  },
  {
   "cell_type": "code",
   "execution_count": 59,
   "metadata": {
    "collapsed": true
   },
   "outputs": [],
   "source": [
    "reset_output()"
   ]
  },
  {
   "cell_type": "code",
   "execution_count": null,
   "metadata": {
    "collapsed": true
   },
   "outputs": [],
   "source": []
  }
 ],
 "metadata": {
  "kernelspec": {
   "display_name": "Python 3",
   "language": "python",
   "name": "python3"
  },
  "language_info": {
   "codemirror_mode": {
    "name": "ipython",
    "version": 3
   },
   "file_extension": ".py",
   "mimetype": "text/x-python",
   "name": "python",
   "nbconvert_exporter": "python",
   "pygments_lexer": "ipython3",
   "version": "3.5.3"
  }
 },
 "nbformat": 4,
 "nbformat_minor": 2
}
